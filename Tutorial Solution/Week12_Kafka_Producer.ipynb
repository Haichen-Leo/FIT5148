{
 "cells": [
  {
   "cell_type": "markdown",
   "metadata": {},
   "source": [
    "# Accessing the On-street Parking Bay Sensors Data\n",
    "\n",
    "We will access on-street parking bay sensors data provided by City of Melbourne Open Data Team. We receive all active sensor readings, however, the number of sensor readings may fluctuate as sensor connections connect/reconnect to the network. Usually, parking sensors are not operational on Public Holidays and parking sensors can show car parks as vacant when blocked by construction zones. The data is useful with caveats and updated frequently. Visit [On-street-Parking-Bay-Sensors](https://data.melbourne.vic.gov.au/Transport-Movement/On-street-Parking-Bay-Sensors/vh2v-4nfs) for more details. \n",
    "\n",
    "# Understanding the data\n",
    "\n",
    "** bay_id ** - The unique ID of the parking bay where the parking sensor is located. The bay_id column is of the number datatype.\n",
    "\n",
    "** st_marker_id ** - The street marker that is located next to the parking bay with a unique id for the bay. Often a small round, metal plaque found on the pavement next to the bay. The st_marker_id column is of the text datatype.\n",
    "\n",
    "** status ** - The status column is of the text datatype. The status will either display:\n",
    "\n",
    "- Present – A car is present in the parking bay at that time.\n",
    "\n",
    "- Unoccupied – The parking bay is available at that time.\n",
    "\n",
    "** location ** - The latitude and longitude of the parking bay. The location column is of the point datatype.\n",
    "\n",
    "** lat ** - The latitude of the parking bay. The lat column is of the number datatype.\n",
    "\n",
    "** lon ** - The longitude of the parking bay. The lon column is of the number datatype.\n"
   ]
  },
  {
   "cell_type": "code",
   "execution_count": null,
   "metadata": {},
   "outputs": [],
   "source": [
    "# Make sure to install these packages before running (Uncomment to install):\n",
    "# !pip3 install sodapy"
   ]
  },
  {
   "cell_type": "code",
   "execution_count": null,
   "metadata": {},
   "outputs": [],
   "source": [
    "from sodapy import Socrata\n",
    "# Unauthenticated client only works with public data sets. Note 'None'\n",
    "# in place of application token, and no username or password:\n",
    "client = Socrata(\"data.melbourne.vic.gov.au\", None)\n",
    "\n",
    "# Example authenticated client (needed for non-public datasets):\n",
    "# client = Socrata(data.melbourne.vic.gov.au,\n",
    "#                  MyAppToken,\n",
    "#                  userame=\"user@example.com\",\n",
    "#                  password=\"AFakePassword\")\n",
    "\n",
    "# First 2000 results, returned as JSON from API / converted to Python list of\n",
    "# dictionaries by sodapy.\n",
    "result_list = client.get(\"dtpv-d4pf\", limit=2000)\n",
    "\n",
    "for result in result_list:\n",
    "    print(result)"
   ]
  },
  {
   "cell_type": "code",
   "execution_count": null,
   "metadata": {},
   "outputs": [],
   "source": [
    "# import statements\n",
    "\n",
    "from time import sleep\n",
    "from json import dumps\n",
    "from kafka import KafkaProducer\n",
    "import random\n",
    "import datetime as dt\n",
    "\n",
    "\n",
    "def publish_message(producer_instance, topic_name, key, data):\n",
    "    try:\n",
    "        key_bytes = bytes(key, encoding='utf-8')\n",
    "        producer_instance.send(topic_name, key=key_bytes, value=data)\n",
    "        producer_instance.flush()\n",
    "        print('Message published successfully. Data: ' + str(data))\n",
    "    except Exception as ex:\n",
    "        print('Exception in publishing message.')\n",
    "        print(str(ex))\n",
    "        \n",
    "def connect_kafka_producer():\n",
    "    _producer = None\n",
    "    try:\n",
    "        _producer = KafkaProducer(bootstrap_servers=['localhost:9092'],\n",
    "                                  value_serializer=lambda x:dumps(x).encode('ascii'),\n",
    "                                  api_version=(0, 10))\n",
    "    except Exception as ex:\n",
    "        print('Exception while connecting Kafka.')\n",
    "        print(str(ex))\n",
    "    finally:\n",
    "        return _producer\n",
    "    \n",
    "if __name__ == '__main__':\n",
    "   \n",
    "    topic = 'week12'\n",
    "    \n",
    "    print('Publishing records..')\n",
    "    producer = connect_kafka_producer()\n",
    "    \n",
    "    for data in result_list:\n",
    "        publish_message(producer, topic, 'jsondata', data)\n",
    "        sleep(1)"
   ]
  },
  {
   "cell_type": "code",
   "execution_count": null,
   "metadata": {},
   "outputs": [],
   "source": []
  }
 ],
 "metadata": {
  "kernelspec": {
   "display_name": "Python 3",
   "language": "python",
   "name": "python3"
  },
  "language_info": {
   "codemirror_mode": {
    "name": "ipython",
    "version": 3
   },
   "file_extension": ".py",
   "mimetype": "text/x-python",
   "name": "python",
   "nbconvert_exporter": "python",
   "pygments_lexer": "ipython3",
   "version": "3.5.2"
  }
 },
 "nbformat": 4,
 "nbformat_minor": 2
}
